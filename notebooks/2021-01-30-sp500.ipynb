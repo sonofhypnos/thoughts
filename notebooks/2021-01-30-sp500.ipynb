{
 "cells": [
  {
   "cell_type": "markdown",
   "metadata": {
    "collapsed": false,
    "jupyter": {
     "outputs_hidden": false,
     "source_hidden": true
    },
    "tags": []
   },
   "source": [
    "# Will the S&P 500 go above index 3800 by March 1st 2021?\n"
   ]
  },
  {
   "cell_type": "markdown",
   "metadata": {
    "collapsed": false,
    "jupyter": {
     "outputs_hidden": false
    }
   },
   "source": [
    "So most of the time when I make predictions, I'll spend a couple of minutes trying to come up with relevant [reference classes](https://en.wikipedia.org/wiki/Reference_class_forecasting). If it feels tractable, I'll try to [guestimate](https://www.getguesstimate.com/users/7831) answers to the sub-questions. But the following question: \"By date_X, will the S&P 500 fall below Index_Y?\" was quite hard to answer this way.  Since it's asked every month on [Almanis](https://www.almanisprivate.com/almanis-app), I thought this could be a quite handy exercise in working with timeseries. Feel free to use the notebook for your own predictions. [Here is a link](https://raw.githubusercontent.com/sonofhypnos/projects/master/_notebooks/%5EGSPC.csv) to the S&P 500 CSV-file which I downloaded from [Yahoo Finance](https://finance.yahoo.com/quote/%5EGSPC/history?period1=-1325635200&period2=1611964800&interval=1d&filter=history&frequency=1d&includeAdjustedClose=true).\n",
    "\n",
    "I assumed the SP 500 to be a (biased) random walk. This might not be true, but if I could do any better I wouldn't be betting \"play-money\" on Almanis. I would be making a fortune on Wallstreet instead.\n",
    "For this example, I will ask the question: \"Will the S&P 500 go above 3800 by March 1st, 2021?\"\n",
    "\n",
    "To answer whether the S&P 500 will exceed a certain index, I looked at the difference between the current index (3,714.7) and the index that we want to know the [probability of exceedance](https://en.wikipedia.org/wiki/Frequency_of_exceedance) for (3800). I computed this probability by looking at the frequency at which the index has moved by that much in the past.[^1][^2]\n",
    "\n",
    "[^1]: To be precise, I computed the size of the gap between the current index and the boundary index (3900) as a percentage of the absolute index. I then looked at how often such a big gap had been exceeded in the past in the same number of days.\n",
    "\n",
    "\n",
    "[^2]: I considered learning how to do fancy things like volatility forecasting. But when I looked into it, it didn’t feel super exciting. And doing it just for the 8$ dollars I’d be winning on Almanis would be working for less than minimum wage, so I didn’t do it.\n"
   ]
  },
  {
   "cell_type": "code",
   "execution_count": 9,
   "metadata": {
    "collapsed": false,
    "jupyter": {
     "outputs_hidden": false
    }
   },
   "outputs": [],
   "source": [
    "import numpy as np\n",
    "import pandas as pd\n",
    "import matplotlib.pyplot as plt\n",
    "import seaborn as sns\n",
    "import statsmodels.graphics as stg #we are going to use this later on to check our timeseries for autocorrelation\n",
    "import statsmodels.api as sm\n",
    "%matplotlib inline\n",
    "\n",
    "df = pd.read_csv(\"https://raw.githubusercontent.com/sonofhypnos/projects/master/_notebooks/%5EGSPC.csv\")\n",
    "\n"
   ]
  },
  {
   "cell_type": "code",
   "execution_count": 10,
   "metadata": {
    "collapsed": false,
    "jupyter": {
     "outputs_hidden": false
    }
   },
   "outputs": [],
   "source": [
    "days_ahead = 30 # the number of days that the S&P has to stay within the boundary\n",
    "boundary = 3800\n"
   ]
  },
  {
   "cell_type": "markdown",
   "metadata": {
    "collapsed": false,
    "jupyter": {
     "outputs_hidden": false
    }
   },
   "source": [
    "So before we can answer our initial question, we need to take a look at our data."
   ]
  },
  {
   "cell_type": "code",
   "execution_count": 11,
   "metadata": {
    "collapsed": false,
    "jupyter": {
     "outputs_hidden": false
    }
   },
   "outputs": [
    {
     "data": {
      "text/html": [
       "<div>\n",
       "<style scoped>\n",
       "    .dataframe tbody tr th:only-of-type {\n",
       "        vertical-align: middle;\n",
       "    }\n",
       "\n",
       "    .dataframe tbody tr th {\n",
       "        vertical-align: top;\n",
       "    }\n",
       "\n",
       "    .dataframe thead th {\n",
       "        text-align: right;\n",
       "    }\n",
       "</style>\n",
       "<table border=\"1\" class=\"dataframe\">\n",
       "  <thead>\n",
       "    <tr style=\"text-align: right;\">\n",
       "      <th></th>\n",
       "      <th>Date</th>\n",
       "      <th>Open</th>\n",
       "      <th>High</th>\n",
       "      <th>Low</th>\n",
       "      <th>Close</th>\n",
       "      <th>Adj Close</th>\n",
       "      <th>Volume</th>\n",
       "    </tr>\n",
       "  </thead>\n",
       "  <tbody>\n",
       "    <tr>\n",
       "      <th>0</th>\n",
       "      <td>1927-12-30</td>\n",
       "      <td>17.660000</td>\n",
       "      <td>17.660000</td>\n",
       "      <td>17.660000</td>\n",
       "      <td>17.660000</td>\n",
       "      <td>17.660000</td>\n",
       "      <td>0</td>\n",
       "    </tr>\n",
       "    <tr>\n",
       "      <th>1</th>\n",
       "      <td>1928-01-03</td>\n",
       "      <td>17.760000</td>\n",
       "      <td>17.760000</td>\n",
       "      <td>17.760000</td>\n",
       "      <td>17.760000</td>\n",
       "      <td>17.760000</td>\n",
       "      <td>0</td>\n",
       "    </tr>\n",
       "    <tr>\n",
       "      <th>2</th>\n",
       "      <td>1928-01-04</td>\n",
       "      <td>17.719999</td>\n",
       "      <td>17.719999</td>\n",
       "      <td>17.719999</td>\n",
       "      <td>17.719999</td>\n",
       "      <td>17.719999</td>\n",
       "      <td>0</td>\n",
       "    </tr>\n",
       "    <tr>\n",
       "      <th>3</th>\n",
       "      <td>1928-01-05</td>\n",
       "      <td>17.549999</td>\n",
       "      <td>17.549999</td>\n",
       "      <td>17.549999</td>\n",
       "      <td>17.549999</td>\n",
       "      <td>17.549999</td>\n",
       "      <td>0</td>\n",
       "    </tr>\n",
       "    <tr>\n",
       "      <th>4</th>\n",
       "      <td>1928-01-06</td>\n",
       "      <td>17.660000</td>\n",
       "      <td>17.660000</td>\n",
       "      <td>17.660000</td>\n",
       "      <td>17.660000</td>\n",
       "      <td>17.660000</td>\n",
       "      <td>0</td>\n",
       "    </tr>\n",
       "  </tbody>\n",
       "</table>\n",
       "</div>"
      ],
      "text/plain": [
       "         Date       Open       High        Low      Close  Adj Close  Volume\n",
       "0  1927-12-30  17.660000  17.660000  17.660000  17.660000  17.660000       0\n",
       "1  1928-01-03  17.760000  17.760000  17.760000  17.760000  17.760000       0\n",
       "2  1928-01-04  17.719999  17.719999  17.719999  17.719999  17.719999       0\n",
       "3  1928-01-05  17.549999  17.549999  17.549999  17.549999  17.549999       0\n",
       "4  1928-01-06  17.660000  17.660000  17.660000  17.660000  17.660000       0"
      ]
     },
     "execution_count": 11,
     "metadata": {},
     "output_type": "execute_result"
    }
   ],
   "source": [
    "df.head()"
   ]
  },
  {
   "cell_type": "markdown",
   "metadata": {
    "collapsed": false,
    "jupyter": {
     "outputs_hidden": false
    }
   },
   "source": [
    "As you can see this dataset goes back until 1927. Another thing to notice here is that we only have data for the S&P 500 on business days. Since this is only supposed to be a rough forecast, I am going to ignore this fact and just pretend that the difference between Fridays and Mondays will be the same as between Tuesdays and Wednesdays. But we will still have to keep this fact in mind, so that our forecast also only includes workdays."
   ]
  },
  {
   "cell_type": "code",
   "execution_count": 12,
   "metadata": {
    "collapsed": false,
    "jupyter": {
     "outputs_hidden": false
    }
   },
   "outputs": [],
   "source": [
    "sp = df.Close\n",
    "sp.index = pd.to_datetime(df.Date)"
   ]
  },
  {
   "cell_type": "code",
   "execution_count": 13,
   "metadata": {
    "collapsed": false,
    "jupyter": {
     "outputs_hidden": false
    }
   },
   "outputs": [
    {
     "data": {
      "text/html": [
       "<div>\n",
       "<style scoped>\n",
       "    .dataframe tbody tr th:only-of-type {\n",
       "        vertical-align: middle;\n",
       "    }\n",
       "\n",
       "    .dataframe tbody tr th {\n",
       "        vertical-align: top;\n",
       "    }\n",
       "\n",
       "    .dataframe thead th {\n",
       "        text-align: right;\n",
       "    }\n",
       "</style>\n",
       "<table border=\"1\" class=\"dataframe\">\n",
       "  <thead>\n",
       "    <tr style=\"text-align: right;\">\n",
       "      <th></th>\n",
       "      <th>Date</th>\n",
       "      <th>Open</th>\n",
       "      <th>High</th>\n",
       "      <th>Low</th>\n",
       "      <th>Close</th>\n",
       "      <th>Adj Close</th>\n",
       "      <th>Volume</th>\n",
       "    </tr>\n",
       "  </thead>\n",
       "  <tbody>\n",
       "    <tr>\n",
       "      <th>0</th>\n",
       "      <td>1927-12-30</td>\n",
       "      <td>17.660000</td>\n",
       "      <td>17.660000</td>\n",
       "      <td>17.660000</td>\n",
       "      <td>17.660000</td>\n",
       "      <td>17.660000</td>\n",
       "      <td>0</td>\n",
       "    </tr>\n",
       "    <tr>\n",
       "      <th>1</th>\n",
       "      <td>1928-01-03</td>\n",
       "      <td>17.760000</td>\n",
       "      <td>17.760000</td>\n",
       "      <td>17.760000</td>\n",
       "      <td>17.760000</td>\n",
       "      <td>17.760000</td>\n",
       "      <td>0</td>\n",
       "    </tr>\n",
       "    <tr>\n",
       "      <th>2</th>\n",
       "      <td>1928-01-04</td>\n",
       "      <td>17.719999</td>\n",
       "      <td>17.719999</td>\n",
       "      <td>17.719999</td>\n",
       "      <td>17.719999</td>\n",
       "      <td>17.719999</td>\n",
       "      <td>0</td>\n",
       "    </tr>\n",
       "    <tr>\n",
       "      <th>3</th>\n",
       "      <td>1928-01-05</td>\n",
       "      <td>17.549999</td>\n",
       "      <td>17.549999</td>\n",
       "      <td>17.549999</td>\n",
       "      <td>17.549999</td>\n",
       "      <td>17.549999</td>\n",
       "      <td>0</td>\n",
       "    </tr>\n",
       "    <tr>\n",
       "      <th>4</th>\n",
       "      <td>1928-01-06</td>\n",
       "      <td>17.660000</td>\n",
       "      <td>17.660000</td>\n",
       "      <td>17.660000</td>\n",
       "      <td>17.660000</td>\n",
       "      <td>17.660000</td>\n",
       "      <td>0</td>\n",
       "    </tr>\n",
       "    <tr>\n",
       "      <th>...</th>\n",
       "      <td>...</td>\n",
       "      <td>...</td>\n",
       "      <td>...</td>\n",
       "      <td>...</td>\n",
       "      <td>...</td>\n",
       "      <td>...</td>\n",
       "      <td>...</td>\n",
       "    </tr>\n",
       "    <tr>\n",
       "      <th>23376</th>\n",
       "      <td>2021-01-25</td>\n",
       "      <td>3851.679932</td>\n",
       "      <td>3859.229980</td>\n",
       "      <td>3797.159912</td>\n",
       "      <td>3855.360107</td>\n",
       "      <td>3855.360107</td>\n",
       "      <td>6955860000</td>\n",
       "    </tr>\n",
       "    <tr>\n",
       "      <th>23377</th>\n",
       "      <td>2021-01-26</td>\n",
       "      <td>3862.959961</td>\n",
       "      <td>3870.899902</td>\n",
       "      <td>3847.780029</td>\n",
       "      <td>3849.620117</td>\n",
       "      <td>3849.620117</td>\n",
       "      <td>6029090000</td>\n",
       "    </tr>\n",
       "    <tr>\n",
       "      <th>23378</th>\n",
       "      <td>2021-01-27</td>\n",
       "      <td>3836.830078</td>\n",
       "      <td>3836.830078</td>\n",
       "      <td>3732.479980</td>\n",
       "      <td>3750.770020</td>\n",
       "      <td>3750.770020</td>\n",
       "      <td>9878040000</td>\n",
       "    </tr>\n",
       "    <tr>\n",
       "      <th>23379</th>\n",
       "      <td>2021-01-28</td>\n",
       "      <td>3755.750000</td>\n",
       "      <td>3830.500000</td>\n",
       "      <td>3755.750000</td>\n",
       "      <td>3787.379883</td>\n",
       "      <td>3787.379883</td>\n",
       "      <td>6937960000</td>\n",
       "    </tr>\n",
       "    <tr>\n",
       "      <th>23380</th>\n",
       "      <td>2021-01-29</td>\n",
       "      <td>3778.050049</td>\n",
       "      <td>3778.050049</td>\n",
       "      <td>3694.120117</td>\n",
       "      <td>3714.239990</td>\n",
       "      <td>3714.239990</td>\n",
       "      <td>3311608119</td>\n",
       "    </tr>\n",
       "  </tbody>\n",
       "</table>\n",
       "<p>23381 rows × 7 columns</p>\n",
       "</div>"
      ],
      "text/plain": [
       "             Date         Open         High          Low        Close  \\\n",
       "0      1927-12-30    17.660000    17.660000    17.660000    17.660000   \n",
       "1      1928-01-03    17.760000    17.760000    17.760000    17.760000   \n",
       "2      1928-01-04    17.719999    17.719999    17.719999    17.719999   \n",
       "3      1928-01-05    17.549999    17.549999    17.549999    17.549999   \n",
       "4      1928-01-06    17.660000    17.660000    17.660000    17.660000   \n",
       "...           ...          ...          ...          ...          ...   \n",
       "23376  2021-01-25  3851.679932  3859.229980  3797.159912  3855.360107   \n",
       "23377  2021-01-26  3862.959961  3870.899902  3847.780029  3849.620117   \n",
       "23378  2021-01-27  3836.830078  3836.830078  3732.479980  3750.770020   \n",
       "23379  2021-01-28  3755.750000  3830.500000  3755.750000  3787.379883   \n",
       "23380  2021-01-29  3778.050049  3778.050049  3694.120117  3714.239990   \n",
       "\n",
       "         Adj Close      Volume  \n",
       "0        17.660000           0  \n",
       "1        17.760000           0  \n",
       "2        17.719999           0  \n",
       "3        17.549999           0  \n",
       "4        17.660000           0  \n",
       "...            ...         ...  \n",
       "23376  3855.360107  6955860000  \n",
       "23377  3849.620117  6029090000  \n",
       "23378  3750.770020  9878040000  \n",
       "23379  3787.379883  6937960000  \n",
       "23380  3714.239990  3311608119  \n",
       "\n",
       "[23381 rows x 7 columns]"
      ]
     },
     "execution_count": 13,
     "metadata": {},
     "output_type": "execute_result"
    }
   ],
   "source": [
    "df"
   ]
  },
  {
   "cell_type": "code",
   "execution_count": 14,
   "metadata": {
    "collapsed": false,
    "jupyter": {
     "outputs_hidden": false
    }
   },
   "outputs": [
    {
     "data": {
      "text/plain": [
       "Date\n",
       "1927-12-30    17.660000\n",
       "1928-01-03    17.760000\n",
       "1928-01-04    17.719999\n",
       "1928-01-05    17.549999\n",
       "1928-01-06    17.660000\n",
       "Name: Close, dtype: float64"
      ]
     },
     "execution_count": 14,
     "metadata": {},
     "output_type": "execute_result"
    }
   ],
   "source": [
    "sp.head()"
   ]
  },
  {
   "cell_type": "markdown",
   "metadata": {
    "collapsed": false,
    "jupyter": {
     "outputs_hidden": false
    }
   },
   "source": [
    "Let's take a first look at our timeseries"
   ]
  },
  {
   "cell_type": "code",
   "execution_count": 15,
   "metadata": {
    "collapsed": false,
    "jupyter": {
     "outputs_hidden": false
    }
   },
   "outputs": [
    {
     "data": {
      "image/png": "[encoded data removed]",
      "text/plain": [
       "<Figure size 640x480 with 1 Axes>"
      ]
     },
     "metadata": {},
     "output_type": "display_data"
    }
   ],
   "source": [
    "sns.lineplot(x=sp.index, y=sp.values);"
   ]
  },
  {
   "cell_type": "markdown",
   "metadata": {
    "collapsed": false,
    "jupyter": {
     "outputs_hidden": false
    }
   },
   "source": [
    "As you can see the graph is growing exponentially. This is even more clear on a log scale:"
   ]
  },
  {
   "cell_type": "code",
   "execution_count": 16,
   "metadata": {
    "collapsed": false,
    "jupyter": {
     "outputs_hidden": false
    }
   },
   "outputs": [
    {
     "data": {
      "image/png": "[encoded data removed]",
      "text/plain": [
       "<Figure size 640x480 with 1 Axes>"
      ]
     },
     "metadata": {},
     "output_type": "display_data"
    }
   ],
   "source": [
    "sns.lineplot(x=sp.index, y=sp.values)\n",
    "plt.yscale(\"log\")"
   ]
  },
  {
   "cell_type": "markdown",
   "metadata": {
    "collapsed": false,
    "jupyter": {
     "outputs_hidden": false
    }
   },
   "source": [
    "We now take a closer look at the correlation in our graph. If this was a (biased) random walk, then there shouldn't be any (auto-)correlation between price changes{% fn 3 %}. \n",
    "This is indeed what we see:\n",
    "\n",
    "[^3]: There actually is a positive correlation in the movement between days, but it is not exploitable and it is a better strategy to just hold your funds. If you want to learn more about time-series analysis, I can recommend [datacamps course on time-series](https://www.datacamp.com/tracks/time-series-with-python). There are also great [free resources](https://machinelearningmastery.com/time-series-forecasting-with-prophet-in-python/) out there."
   ]
  },
  {
   "cell_type": "code",
   "execution_count": 17,
   "metadata": {
    "collapsed": false,
    "jupyter": {
     "outputs_hidden": false
    }
   },
   "outputs": [
    {
     "data": {
      "image/png": "[encoded data removed]",
      "text/plain": [
       "<Figure size 640x480 with 1 Axes>"
      ]
     },
     "metadata": {},
     "output_type": "display_data"
    }
   ],
   "source": [
    "pricechange = sp - sp.shift()\n",
    "stg.tsaplots.plot_acf(pricechange[1:])\n",
    "plt.show()"
   ]
  },
  {
   "cell_type": "markdown",
   "metadata": {
    "collapsed": false,
    "jupyter": {
     "outputs_hidden": false
    }
   },
   "source": [
    "The following function computes the relative difference between different days in the past."
   ]
  },
  {
   "cell_type": "code",
   "execution_count": 18,
   "metadata": {
    "collapsed": false,
    "jupyter": {
     "outputs_hidden": false
    }
   },
   "outputs": [],
   "source": [
    "def relative_shift_n(ts, n):\n",
    "    ts_shift = []\n",
    "    for i in range(1,n+1):\n",
    "        ts_shift.append((ts - ts.shift(periods=i))/ts)\n",
    "    return ts_shift"
   ]
  },
  {
   "cell_type": "markdown",
   "metadata": {
    "collapsed": false,
    "jupyter": {
     "outputs_hidden": false
    }
   },
   "source": [
    "Now we compute the number of workdays ahead for our forecast"
   ]
  },
  {
   "cell_type": "code",
   "execution_count": 19,
   "metadata": {
    "collapsed": false,
    "jupyter": {
     "outputs_hidden": false
    }
   },
   "outputs": [
    {
     "name": "stdout",
     "output_type": "stream",
     "text": [
      "workdays ahead: 20\n"
     ]
    }
   ],
   "source": [
    "current_weekday = sp[-1:].index.weekday[0] + 1\n",
    "n=0\n",
    "for i in range(days_ahead):\n",
    "    if (current_weekday % 7) < 5:\n",
    "        n += 1\n",
    "    current_weekday += 1\n",
    "print(\"workdays ahead:\", n)"
   ]
  },
  {
   "cell_type": "code",
   "execution_count": 20,
   "metadata": {
    "collapsed": false,
    "jupyter": {
     "outputs_hidden": false
    }
   },
   "outputs": [],
   "source": [
    "sp_shift = relative_shift_n(sp, n)\n",
    "shift_index = [str(x) for x in range(1,n+1)]\n",
    "sp_shift = pd.DataFrame.from_dict(dict(zip(shift_index,sp_shift)))\n",
    "sp_shift = sp_shift[n:] #removing NaN entries"
   ]
  },
  {
   "cell_type": "markdown",
   "metadata": {
    "collapsed": false,
    "jupyter": {
     "outputs_hidden": false
    }
   },
   "source": [
    "`sp_shift` is an array of price-changes for different intervalls. The title of each column corresponds to the number of days between which the price change was computed. "
   ]
  },
  {
   "cell_type": "code",
   "execution_count": 21,
   "metadata": {
    "collapsed": false,
    "jupyter": {
     "outputs_hidden": false
    }
   },
   "outputs": [
    {
     "data": {
      "text/html": [
       "<div>\n",
       "<style scoped>\n",
       "    .dataframe tbody tr th:only-of-type {\n",
       "        vertical-align: middle;\n",
       "    }\n",
       "\n",
       "    .dataframe tbody tr th {\n",
       "        vertical-align: top;\n",
       "    }\n",
       "\n",
       "    .dataframe thead th {\n",
       "        text-align: right;\n",
       "    }\n",
       "</style>\n",
       "<table border=\"1\" class=\"dataframe\">\n",
       "  <thead>\n",
       "    <tr style=\"text-align: right;\">\n",
       "      <th></th>\n",
       "      <th>1</th>\n",
       "      <th>2</th>\n",
       "      <th>3</th>\n",
       "      <th>4</th>\n",
       "      <th>5</th>\n",
       "      <th>6</th>\n",
       "      <th>7</th>\n",
       "      <th>8</th>\n",
       "      <th>9</th>\n",
       "      <th>10</th>\n",
       "      <th>11</th>\n",
       "      <th>12</th>\n",
       "      <th>13</th>\n",
       "      <th>14</th>\n",
       "      <th>15</th>\n",
       "      <th>16</th>\n",
       "      <th>17</th>\n",
       "      <th>18</th>\n",
       "      <th>19</th>\n",
       "      <th>20</th>\n",
       "    </tr>\n",
       "    <tr>\n",
       "      <th>Date</th>\n",
       "      <th></th>\n",
       "      <th></th>\n",
       "      <th></th>\n",
       "      <th></th>\n",
       "      <th></th>\n",
       "      <th></th>\n",
       "      <th></th>\n",
       "      <th></th>\n",
       "      <th></th>\n",
       "      <th></th>\n",
       "      <th></th>\n",
       "      <th></th>\n",
       "      <th></th>\n",
       "      <th></th>\n",
       "      <th></th>\n",
       "      <th></th>\n",
       "      <th></th>\n",
       "      <th></th>\n",
       "      <th></th>\n",
       "      <th></th>\n",
       "    </tr>\n",
       "  </thead>\n",
       "  <tbody>\n",
       "    <tr>\n",
       "      <th>1928-01-30</th>\n",
       "      <td>-0.011435</td>\n",
       "      <td>-0.008005</td>\n",
       "      <td>-0.001715</td>\n",
       "      <td>-0.012579</td>\n",
       "      <td>-0.008576</td>\n",
       "      <td>0.000572</td>\n",
       "      <td>0.006289</td>\n",
       "      <td>0.013150</td>\n",
       "      <td>0.010863</td>\n",
       "      <td>0.011435</td>\n",
       "      <td>-0.005146</td>\n",
       "      <td>0.001144</td>\n",
       "      <td>0.008005</td>\n",
       "      <td>0.006861</td>\n",
       "      <td>-0.000572</td>\n",
       "      <td>-0.009720</td>\n",
       "      <td>-0.003430</td>\n",
       "      <td>-0.013150</td>\n",
       "      <td>-0.015437</td>\n",
       "      <td>-0.009720</td>\n",
       "    </tr>\n",
       "    <tr>\n",
       "      <th>1928-01-31</th>\n",
       "      <td>0.004553</td>\n",
       "      <td>-0.006830</td>\n",
       "      <td>-0.003415</td>\n",
       "      <td>0.002846</td>\n",
       "      <td>-0.007968</td>\n",
       "      <td>-0.003984</td>\n",
       "      <td>0.005122</td>\n",
       "      <td>0.010814</td>\n",
       "      <td>0.017644</td>\n",
       "      <td>0.015367</td>\n",
       "      <td>0.015936</td>\n",
       "      <td>-0.000569</td>\n",
       "      <td>0.005692</td>\n",
       "      <td>0.012521</td>\n",
       "      <td>0.011383</td>\n",
       "      <td>0.003984</td>\n",
       "      <td>-0.005122</td>\n",
       "      <td>0.001138</td>\n",
       "      <td>-0.008537</td>\n",
       "      <td>-0.010814</td>\n",
       "    </tr>\n",
       "    <tr>\n",
       "      <th>1928-02-01</th>\n",
       "      <td>-0.002282</td>\n",
       "      <td>0.002282</td>\n",
       "      <td>-0.009127</td>\n",
       "      <td>-0.005704</td>\n",
       "      <td>0.000571</td>\n",
       "      <td>-0.010268</td>\n",
       "      <td>-0.006275</td>\n",
       "      <td>0.002852</td>\n",
       "      <td>0.008557</td>\n",
       "      <td>0.015402</td>\n",
       "      <td>0.013120</td>\n",
       "      <td>0.013691</td>\n",
       "      <td>-0.002852</td>\n",
       "      <td>0.003423</td>\n",
       "      <td>0.010268</td>\n",
       "      <td>0.009127</td>\n",
       "      <td>0.001711</td>\n",
       "      <td>-0.007416</td>\n",
       "      <td>-0.001141</td>\n",
       "      <td>-0.010838</td>\n",
       "    </tr>\n",
       "    <tr>\n",
       "      <th>1928-02-02</th>\n",
       "      <td>0.005672</td>\n",
       "      <td>0.003403</td>\n",
       "      <td>0.007941</td>\n",
       "      <td>-0.003403</td>\n",
       "      <td>0.000000</td>\n",
       "      <td>0.006239</td>\n",
       "      <td>-0.004538</td>\n",
       "      <td>-0.000567</td>\n",
       "      <td>0.008508</td>\n",
       "      <td>0.014180</td>\n",
       "      <td>0.020987</td>\n",
       "      <td>0.018718</td>\n",
       "      <td>0.019285</td>\n",
       "      <td>0.002836</td>\n",
       "      <td>0.009075</td>\n",
       "      <td>0.015882</td>\n",
       "      <td>0.014747</td>\n",
       "      <td>0.007374</td>\n",
       "      <td>-0.001702</td>\n",
       "      <td>0.004538</td>\n",
       "    </tr>\n",
       "    <tr>\n",
       "      <th>1928-02-03</th>\n",
       "      <td>-0.013218</td>\n",
       "      <td>-0.007471</td>\n",
       "      <td>-0.009770</td>\n",
       "      <td>-0.005172</td>\n",
       "      <td>-0.016667</td>\n",
       "      <td>-0.013218</td>\n",
       "      <td>-0.006897</td>\n",
       "      <td>-0.017816</td>\n",
       "      <td>-0.013793</td>\n",
       "      <td>-0.004598</td>\n",
       "      <td>0.001149</td>\n",
       "      <td>0.008046</td>\n",
       "      <td>0.005747</td>\n",
       "      <td>0.006322</td>\n",
       "      <td>-0.010345</td>\n",
       "      <td>-0.004023</td>\n",
       "      <td>0.002874</td>\n",
       "      <td>0.001724</td>\n",
       "      <td>-0.005747</td>\n",
       "      <td>-0.014943</td>\n",
       "    </tr>\n",
       "    <tr>\n",
       "      <th>...</th>\n",
       "      <td>...</td>\n",
       "      <td>...</td>\n",
       "      <td>...</td>\n",
       "      <td>...</td>\n",
       "      <td>...</td>\n",
       "      <td>...</td>\n",
       "      <td>...</td>\n",
       "      <td>...</td>\n",
       "      <td>...</td>\n",
       "      <td>...</td>\n",
       "      <td>...</td>\n",
       "      <td>...</td>\n",
       "      <td>...</td>\n",
       "      <td>...</td>\n",
       "      <td>...</td>\n",
       "      <td>...</td>\n",
       "      <td>...</td>\n",
       "      <td>...</td>\n",
       "      <td>...</td>\n",
       "      <td>...</td>\n",
       "    </tr>\n",
       "    <tr>\n",
       "      <th>2021-01-25</th>\n",
       "      <td>0.003603</td>\n",
       "      <td>0.000594</td>\n",
       "      <td>0.000910</td>\n",
       "      <td>0.014642</td>\n",
       "      <td>0.022595</td>\n",
       "      <td>0.015516</td>\n",
       "      <td>0.011807</td>\n",
       "      <td>0.014051</td>\n",
       "      <td>0.014460</td>\n",
       "      <td>0.007958</td>\n",
       "      <td>0.013376</td>\n",
       "      <td>0.027811</td>\n",
       "      <td>0.033330</td>\n",
       "      <td>0.040129</td>\n",
       "      <td>0.025754</td>\n",
       "      <td>0.031987</td>\n",
       "      <td>0.033284</td>\n",
       "      <td>0.031125</td>\n",
       "      <td>0.039503</td>\n",
       "      <td>0.042888</td>\n",
       "    </tr>\n",
       "    <tr>\n",
       "      <th>2021-01-26</th>\n",
       "      <td>-0.001491</td>\n",
       "      <td>0.002117</td>\n",
       "      <td>-0.000896</td>\n",
       "      <td>-0.000579</td>\n",
       "      <td>0.013173</td>\n",
       "      <td>0.021137</td>\n",
       "      <td>0.014048</td>\n",
       "      <td>0.010333</td>\n",
       "      <td>0.012581</td>\n",
       "      <td>0.012991</td>\n",
       "      <td>0.006479</td>\n",
       "      <td>0.011905</td>\n",
       "      <td>0.026361</td>\n",
       "      <td>0.031889</td>\n",
       "      <td>0.038697</td>\n",
       "      <td>0.024301</td>\n",
       "      <td>0.030543</td>\n",
       "      <td>0.031842</td>\n",
       "      <td>0.029681</td>\n",
       "      <td>0.038071</td>\n",
       "    </tr>\n",
       "    <tr>\n",
       "      <th>2021-01-27</th>\n",
       "      <td>-0.026355</td>\n",
       "      <td>-0.027885</td>\n",
       "      <td>-0.024182</td>\n",
       "      <td>-0.027274</td>\n",
       "      <td>-0.026949</td>\n",
       "      <td>-0.012835</td>\n",
       "      <td>-0.004660</td>\n",
       "      <td>-0.011936</td>\n",
       "      <td>-0.015749</td>\n",
       "      <td>-0.013443</td>\n",
       "      <td>-0.013021</td>\n",
       "      <td>-0.019705</td>\n",
       "      <td>-0.014136</td>\n",
       "      <td>0.000701</td>\n",
       "      <td>0.006375</td>\n",
       "      <td>0.013363</td>\n",
       "      <td>-0.001413</td>\n",
       "      <td>0.004994</td>\n",
       "      <td>0.006327</td>\n",
       "      <td>0.004108</td>\n",
       "    </tr>\n",
       "    <tr>\n",
       "      <th>2021-01-28</th>\n",
       "      <td>0.009666</td>\n",
       "      <td>-0.016434</td>\n",
       "      <td>-0.017949</td>\n",
       "      <td>-0.014282</td>\n",
       "      <td>-0.017344</td>\n",
       "      <td>-0.017022</td>\n",
       "      <td>-0.003044</td>\n",
       "      <td>0.005051</td>\n",
       "      <td>-0.002155</td>\n",
       "      <td>-0.005930</td>\n",
       "      <td>-0.003646</td>\n",
       "      <td>-0.003229</td>\n",
       "      <td>-0.009849</td>\n",
       "      <td>-0.004333</td>\n",
       "      <td>0.010361</td>\n",
       "      <td>0.015979</td>\n",
       "      <td>0.022900</td>\n",
       "      <td>0.008267</td>\n",
       "      <td>0.014612</td>\n",
       "      <td>0.015932</td>\n",
       "    </tr>\n",
       "    <tr>\n",
       "      <th>2021-01-29</th>\n",
       "      <td>-0.019692</td>\n",
       "      <td>-0.009835</td>\n",
       "      <td>-0.036449</td>\n",
       "      <td>-0.037994</td>\n",
       "      <td>-0.034255</td>\n",
       "      <td>-0.037378</td>\n",
       "      <td>-0.037049</td>\n",
       "      <td>-0.022796</td>\n",
       "      <td>-0.014541</td>\n",
       "      <td>-0.021889</td>\n",
       "      <td>-0.025739</td>\n",
       "      <td>-0.023410</td>\n",
       "      <td>-0.022985</td>\n",
       "      <td>-0.029734</td>\n",
       "      <td>-0.024110</td>\n",
       "      <td>-0.009127</td>\n",
       "      <td>-0.003398</td>\n",
       "      <td>0.003659</td>\n",
       "      <td>-0.011262</td>\n",
       "      <td>-0.004792</td>\n",
       "    </tr>\n",
       "  </tbody>\n",
       "</table>\n",
       "<p>23361 rows × 20 columns</p>\n",
       "</div>"
      ],
      "text/plain": [
       "                   1         2         3         4         5         6  \\\n",
       "Date                                                                     \n",
       "1928-01-30 -0.011435 -0.008005 -0.001715 -0.012579 -0.008576  0.000572   \n",
       "1928-01-31  0.004553 -0.006830 -0.003415  0.002846 -0.007968 -0.003984   \n",
       "1928-02-01 -0.002282  0.002282 -0.009127 -0.005704  0.000571 -0.010268   \n",
       "1928-02-02  0.005672  0.003403  0.007941 -0.003403  0.000000  0.006239   \n",
       "1928-02-03 -0.013218 -0.007471 -0.009770 -0.005172 -0.016667 -0.013218   \n",
       "...              ...       ...       ...       ...       ...       ...   \n",
       "2021-01-25  0.003603  0.000594  0.000910  0.014642  0.022595  0.015516   \n",
       "2021-01-26 -0.001491  0.002117 -0.000896 -0.000579  0.013173  0.021137   \n",
       "2021-01-27 -0.026355 -0.027885 -0.024182 -0.027274 -0.026949 -0.012835   \n",
       "2021-01-28  0.009666 -0.016434 -0.017949 -0.014282 -0.017344 -0.017022   \n",
       "2021-01-29 -0.019692 -0.009835 -0.036449 -0.037994 -0.034255 -0.037378   \n",
       "\n",
       "                   7         8         9        10        11        12  \\\n",
       "Date                                                                     \n",
       "1928-01-30  0.006289  0.013150  0.010863  0.011435 -0.005146  0.001144   \n",
       "1928-01-31  0.005122  0.010814  0.017644  0.015367  0.015936 -0.000569   \n",
       "1928-02-01 -0.006275  0.002852  0.008557  0.015402  0.013120  0.013691   \n",
       "1928-02-02 -0.004538 -0.000567  0.008508  0.014180  0.020987  0.018718   \n",
       "1928-02-03 -0.006897 -0.017816 -0.013793 -0.004598  0.001149  0.008046   \n",
       "...              ...       ...       ...       ...       ...       ...   \n",
       "2021-01-25  0.011807  0.014051  0.014460  0.007958  0.013376  0.027811   \n",
       "2021-01-26  0.014048  0.010333  0.012581  0.012991  0.006479  0.011905   \n",
       "2021-01-27 -0.004660 -0.011936 -0.015749 -0.013443 -0.013021 -0.019705   \n",
       "2021-01-28 -0.003044  0.005051 -0.002155 -0.005930 -0.003646 -0.003229   \n",
       "2021-01-29 -0.037049 -0.022796 -0.014541 -0.021889 -0.025739 -0.023410   \n",
       "\n",
       "                  13        14        15        16        17        18  \\\n",
       "Date                                                                     \n",
       "1928-01-30  0.008005  0.006861 -0.000572 -0.009720 -0.003430 -0.013150   \n",
       "1928-01-31  0.005692  0.012521  0.011383  0.003984 -0.005122  0.001138   \n",
       "1928-02-01 -0.002852  0.003423  0.010268  0.009127  0.001711 -0.007416   \n",
       "1928-02-02  0.019285  0.002836  0.009075  0.015882  0.014747  0.007374   \n",
       "1928-02-03  0.005747  0.006322 -0.010345 -0.004023  0.002874  0.001724   \n",
       "...              ...       ...       ...       ...       ...       ...   \n",
       "2021-01-25  0.033330  0.040129  0.025754  0.031987  0.033284  0.031125   \n",
       "2021-01-26  0.026361  0.031889  0.038697  0.024301  0.030543  0.031842   \n",
       "2021-01-27 -0.014136  0.000701  0.006375  0.013363 -0.001413  0.004994   \n",
       "2021-01-28 -0.009849 -0.004333  0.010361  0.015979  0.022900  0.008267   \n",
       "2021-01-29 -0.022985 -0.029734 -0.024110 -0.009127 -0.003398  0.003659   \n",
       "\n",
       "                  19        20  \n",
       "Date                            \n",
       "1928-01-30 -0.015437 -0.009720  \n",
       "1928-01-31 -0.008537 -0.010814  \n",
       "1928-02-01 -0.001141 -0.010838  \n",
       "1928-02-02 -0.001702  0.004538  \n",
       "1928-02-03 -0.005747 -0.014943  \n",
       "...              ...       ...  \n",
       "2021-01-25  0.039503  0.042888  \n",
       "2021-01-26  0.029681  0.038071  \n",
       "2021-01-27  0.006327  0.004108  \n",
       "2021-01-28  0.014612  0.015932  \n",
       "2021-01-29 -0.011262 -0.004792  \n",
       "\n",
       "[23361 rows x 20 columns]"
      ]
     },
     "execution_count": 21,
     "metadata": {},
     "output_type": "execute_result"
    }
   ],
   "source": [
    "sp_shift"
   ]
  },
  {
   "cell_type": "code",
   "execution_count": 22,
   "metadata": {
    "collapsed": false,
    "jupyter": {
     "outputs_hidden": false
    }
   },
   "outputs": [
    {
     "data": {
      "image/png": "[encoded data removed]",
      "text/plain": [
       "<Figure size 640x480 with 1 Axes>"
      ]
     },
     "metadata": {},
     "output_type": "display_data"
    }
   ],
   "source": [
    "sp_shift[\"1\"].plot();"
   ]
  },
  {
   "cell_type": "markdown",
   "metadata": {
    "collapsed": false,
    "jupyter": {
     "outputs_hidden": false
    }
   },
   "source": [
    "The following function finally computes the probability of this happening."
   ]
  },
  {
   "cell_type": "code",
   "execution_count": 26,
   "metadata": {
    "collapsed": false,
    "jupyter": {
     "outputs_hidden": false
    }
   },
   "outputs": [
    {
     "name": "stdout",
     "output_type": "stream",
     "text": [
      "probability of going above boundary:\n",
      "0.5810110868541586\n"
     ]
    },
    {
     "data": {
      "image/png": "[encoded data removed]",
      "text/plain": [
       "<Figure size 640x480 with 1 Axes>"
      ]
     },
     "metadata": {},
     "output_type": "display_data"
    }
   ],
   "source": [
    "sp_forecast = float(sp[-1:].iloc[0]) + sp_shift * float(sp[-1:].iloc[0])\n",
    "\n",
    "beyond_boundary = []\n",
    "#change beyond boundary list based on whether our boundry is \n",
    "#above or below the current index of the S&P 500\n",
    "if float(sp[-1:].iloc[0]) < boundary:\n",
    "    print(\"probability of going above boundary:\")\n",
    "    for i in range(len(sp_forecast)):\n",
    "        beyond_boundary.append(any(sp_forecast.iloc[i] > boundary)) \n",
    "else:\n",
    "    print(\"probability of going below boundary:\")\n",
    "    for i in range(len(sp_forecast)):\n",
    "        beyond_boundary.append(any(sp_forecast.iloc[i] < boundary))\n",
    "\n",
    "beyond_boundary = pd.Series(beyond_boundary)\n",
    "\n",
    "print(beyond_boundary.mean())\n",
    "\n",
    "beyond_boundary.rolling(window=365).mean().plot()\n",
    "axes = plt.gca()\n",
    "axes.set_ylim([0,1])\n",
    "plt.show()"
   ]
  },
  {
   "cell_type": "markdown",
   "metadata": {
    "collapsed": false,
    "jupyter": {
     "outputs_hidden": false
    }
   },
   "source": [
    "As we can see, there is some variation. But the rolling average stays in the 40-80% range most of the time.[^4] So if the current forecast at Almanis would be at 30%, I could place a relatively confident bet on \"YES\". I can do this because I assume the other Almanis participants value their time enough to not make an even more sophisticated model. I also don't expect them to have information about the direction the market is going. If they did, they could make a fortune shorting or buying the S&P 500 instead.\n",
    "\n",
    "[^4]: This actually makes me more confident that this is the right way to model this. I had been trying to use the absolute difference on just more recent data, but when looking at the last graph it had been really obvious that the gaps were growing larger and the relative difference might be more appropriate"
   ]
  }
 ],
 "metadata": {
  "kernelspec": {
   "display_name": "Python 3 (ipykernel)",
   "language": "python",
   "name": "python3"
  },
  "language_info": {
   "codemirror_mode": {
    "name": "ipython",
    "version": 3
   },
   "file_extension": ".py",
   "mimetype": "text/x-python",
   "name": "python",
   "nbconvert_exporter": "python",
   "pygments_lexer": "ipython3",
   "version": "3.11.10"
  },
  "name": "2021-01-30-sp500.ipynb"
 },
 "nbformat": 4,
 "nbformat_minor": 4
}
